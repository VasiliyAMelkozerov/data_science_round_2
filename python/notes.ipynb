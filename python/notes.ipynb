{
 "cells": [
  {
   "attachments": {},
   "cell_type": "markdown",
   "metadata": {},
   "source": [
    "# Python\n",
    "***"
   ]
  },
  {
   "attachments": {},
   "cell_type": "markdown",
   "metadata": {},
   "source": [
    "[Beautiful is better than ugly.<br>\n",
    "Explicit is better than implicit.<br>\n",
    "Simple is better than complex.<br>\n",
    "Complex is better than complicated.<br>\n",
    "Flat is better than nested.<br>\n",
    "Sparse is better than dense.<br>\n",
    "Readability counts.<br>\n",
    "Special cases aren't special enough to break the rules.<br>\n",
    "Although practicality beats purity.<br>\n",
    "Errors should never pass silently.<br>\n",
    "Unless explicitly silenced.<br>\n",
    "In the face of ambiguity, refuse the temptation to guess.<br>\n",
    "There should be one-- and preferably only one --obvious way to do it.<br>\n",
    "Although that way may not be obvious at first unless you're Dutch.<br>\n",
    "Now is better than never.<br>\n",
    "Although never is often better than right now.<br>\n",
    "If the implementation is hard to explain, it's a bad idea.<br>\n",
    "If the implementation is easy to explain, it may be a good idea.<br>\n",
    "Namespaces are one honking great idea -- let's do more of those!](https://peps.python.org/pep-0020/) <br>\n",
    "-- Zen of Python\n",
    "***"
   ]
  },
  {
   "attachments": {},
   "cell_type": "markdown",
   "metadata": {},
   "source": [
    "In my own words this is a love letter to simple, easy to read, and clean python programming. <br>\n",
    "This section and notes will serve as my presonal refresher on the Python portion of the [Codeup.](https://codeup.com/)<br>\n",
    "I haven't touched much material recently so this seems to me a great point to start from. <br>\n",
    "***"
   ]
  },
  {
   "attachments": {},
   "cell_type": "markdown",
   "metadata": {},
   "source": [
    "## Goals for this section\n",
    "- Go over the various data types in Python and how to work them\n",
    "- Conditionals, loops, and functions\n",
    "- Using imports\n",
    "- Getting comfortable with python and its various libraries \n",
    "- - matplotlib\n",
    "- - numpy\n",
    "- - pandas\n",
    "- - seaborn\n",
    "- - sklearn\n",
    "- - scipy\n",
    "- - stats\n",
    "***"
   ]
  },
  {
   "attachments": {},
   "cell_type": "markdown",
   "metadata": {},
   "source": [
    "## Introduction\n",
    "This video by [Coding with Lewis](https://www.youtube.com/watch?v=G6x6oo1Zvhg) is an approachable video that goes over a general view of python. Typically python has been a language that is recommended to people who want to get into programming because of its easy to read syntax. The tabbed out spaces help keep the code easier to read and most of it can be read as plain english to keep it human friendly. More applicably here is that python is the most widely used language in the [Data Science](https://www.ibm.com/topics/data-science). "
   ]
  },
  {
   "cell_type": "code",
   "execution_count": 1,
   "metadata": {},
   "outputs": [
    {
     "name": "stdout",
     "output_type": "stream",
     "text": [
      "The following instructions are for MAC users\n"
     ]
    }
   ],
   "source": [
    "print(\"The following instructions are for MAC users.\")"
   ]
  },
  {
   "attachments": {},
   "cell_type": "markdown",
   "metadata": {},
   "source": [
    "### Getting started\n",
    "*** \n",
    "In order to run python first we have to setup the enviroment. For this I will be referencing [Anaconda](https://docs.anaconda.com/) to install and manage the python enviroment. Anaconda is a distribution of python that has many libraries that are commmonly used in data science. Anaconda also saves us time and streamlines the extra packages and libraries. <br>\n",
    "1. Use Homebrew to install Anaconda.\n",
    "> brew install --cask anaconda\n",
    "2. Verify your device's processor by clicking the Apple icon in the upper left hand corner of the desktop and selecting About This Mac. This will be either M1 or Intel.\n",
    "3. Set the PATH variable to include the location of the Anaconda distribution. Use the appropriate command based on the processor type.\n",
    "**Intel processors**\n",
    "> echo 'export PATH=/usr/local/anaconda3/bin:$PATH' >> ~/.zshrc\n",
    "**M1 and M2 processors**\n",
    "> echo 'export PATH=/opt/homebrew/anaconda3/bin:$PATH' >> ~/.zshrc\n",
    "4. Reload the configuration file to allow the changes to take effect.\n",
    "> source ~/.zshrc\n",
    "5. Verify a successful installation of the Python distribution. \n",
    "> python --version\n",
    "Example output:\n",
    "> Python 3.9.13\n",
    "If this command prints a version number less than 3, something went wrong during the installation process.\n",
    "***"
   ]
  },
  {
   "attachments": {},
   "cell_type": "markdown",
   "metadata": {},
   "source": [
    "## Using Python\n",
    "There are a number of ways to create and execute Python code. Lines of code can be typed and run inside a terminal using [Python REPL](https://realpython.com/python-repl/) (*Read-Eval-Print-Loop, also reffered to as an interactive session)\n",
    "<br>\n",
    "* which reads input, evaluates the code, prints the results, and loops back to receive more input. Almost like a petri dish for Python. Some small and isolated play pen for idea. <br>\n",
    "Starting A REPL, in the MAC terminal\n",
    "\n",
    "> python\n",
    "\n",
    "The REPL prompt\n",
    "\n",
    "> \">>>\"\n",
    "\n",
    "Write a line of code, press enter, see the magic ⊂(◉‿◉)つ Multiple lines can be seperated by a \":\".\n",
    "\n",
    "Exit the REPL\n",
    "\n",
    ">  >>>quit()\n",
    "\n",
    "[comment]: <> (note to future me find a way to keep the > character in itself)\n",
    "[comment]: <> (quotations will do for now but aren't the prettiest)\n",
    "\n",
    "Or use CTRL+D\n",
    "\n"
   ]
  },
  {
   "attachments": {},
   "cell_type": "markdown",
   "metadata": {},
   "source": [
    "## Getting Help\n",
    "There is an interactive help page that contains information about Python functions.\n",
    "\n",
    "How to bring up help from the REPL.\n",
    "\n",
    "> \">>> help()\"\n",
    "\n",
    "Access documentation for the function print\n",
    "\n",
    "> \">>> help(print)\"\n",
    "\n",
    "## Python Scripts\n",
    "\n",
    "A python script has .py at the end of it and can be run using the command line.\n",
    "\n",
    "**Writing and executing a script**\n",
    "\n",
    "1. Exit the REPL.\n",
    "\n",
    "2. Make a text file which holds a simple script with VS Code (or your choice of text editor) \n",
    "\n",
    "> code helloworld.py\n",
    "\n",
    "3. Edit the file to contain the following Python code:\n",
    "\n",
    "> print('Hello, World!')\n",
    "\n",
    "4. Save the file and run the following command. \n",
    "\n",
    "> python helloworld.py\n"
   ]
  },
  {
   "cell_type": "code",
   "execution_count": null,
   "metadata": {},
   "outputs": [],
   "source": []
  }
 ],
 "metadata": {
  "kernelspec": {
   "display_name": "base",
   "language": "python",
   "name": "python3"
  },
  "language_info": {
   "codemirror_mode": {
    "name": "ipython",
    "version": 3
   },
   "file_extension": ".py",
   "mimetype": "text/x-python",
   "name": "python",
   "nbconvert_exporter": "python",
   "pygments_lexer": "ipython3",
   "version": "3.9.7"
  },
  "orig_nbformat": 4
 },
 "nbformat": 4,
 "nbformat_minor": 2
}
